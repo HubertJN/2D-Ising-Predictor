{
 "cells": [
  {
   "cell_type": "markdown",
   "metadata": {},
   "source": [
    "# Generate configuration files\n",
    "\n",
    "This script looks to generate sets of inputs to be able to run sets of simulations maximising the capacity of the GPU. \n",
    "\n",
    "A basic configuration file looks like this.\n",
    "\n",
    "~~~\n",
    "## New model ##\n",
    "model_id=1\n",
    "num_concurrent=5\n",
    "size_x=100\n",
    "size_y=100\n",
    "iterations=1000\n",
    "iter_per_step=5\n",
    "seed=1\n",
    "inv_temperature=1.5\n",
    "field=1.5\n",
    "starting_config=3\n",
    "nucleation_threshold=1.0\n",
    "~~~\n",
    "\n"
   ]
  },
  {
   "cell_type": "code",
   "execution_count": null,
   "metadata": {},
   "outputs": [],
   "source": [
    "from numba import cuda"
   ]
  },
  {
   "cell_type": "code",
   "execution_count": null,
   "metadata": {},
   "outputs": [],
   "source": [
    "cc_cores_per_SM_dict = {\n",
    "    (2,0) : 32,\n",
    "    (2,1) : 48,\n",
    "    (3,0) : 192,\n",
    "    (3,5) : 192,\n",
    "    (3,7) : 192,\n",
    "    (5,0) : 128,\n",
    "    (5,2) : 128,\n",
    "    (6,0) : 64,\n",
    "    (6,1) : 128,\n",
    "    (7,0) : 64,\n",
    "    (7,5) : 64,\n",
    "    (8,0) : 64,\n",
    "    (8,6) : 128,\n",
    "    (8,9) : 128,\n",
    "    (9,0) : 128\n",
    "    }\n",
    "# the above dictionary should result in a value of \"None\" if a cc match \n",
    "# is not found.  The dictionary needs to be extended as new devices become\n",
    "# available, and currently does not account for all Jetson devices\n",
    "device = cuda.get_current_device()\n",
    "my_sms = getattr(device, 'MULTIPROCESSOR_COUNT')\n",
    "my_cc = device.compute_capability\n",
    "cores_per_sm = cc_cores_per_SM_dict.get(my_cc)\n",
    "total_cores = cores_per_sm*my_sms\n",
    "print(\"GPU compute capability: \" , my_cc)\n",
    "print(\"GPU total number of SMs: \" , my_sms)\n",
    "print(\"total cores: \" , total_cores)"
   ]
  },
  {
   "cell_type": "code",
   "execution_count": null,
   "metadata": {},
   "outputs": [],
   "source": [
    "cuda_device_config = {\n",
    "    \"d_mem\": \n",
    "}"
   ]
  }
 ],
 "metadata": {
  "language_info": {
   "name": "python"
  },
  "orig_nbformat": 4
 },
 "nbformat": 4,
 "nbformat_minor": 2
}
