{
 "cells": [
  {
   "cell_type": "markdown",
   "metadata": {},
   "source": [
    "# Generate configuration files\n",
    "\n",
    "This script looks to generate sets of inputs to be able to run sets of simulations maximising the capacity of the GPU. \n",
    "\n",
    "A basic configuration file looks like this.\n",
    "\n",
    "~~~\n",
    "## New model ##\n",
    "model_id=1\n",
    "num_concurrent=5\n",
    "size_x=100\n",
    "size_y=100\n",
    "iterations=1000\n",
    "iter_per_step=5\n",
    "seed=1\n",
    "inv_temperature=1.5\n",
    "field=1.5\n",
    "starting_config=3\n",
    "nucleation_threshold=1.0\n",
    "~~~\n",
    "\n"
   ]
  },
  {
   "cell_type": "code",
   "execution_count": 7,
   "metadata": {},
   "outputs": [],
   "source": [
    "from helper import get_cuda_device_specs"
   ]
  },
  {
   "cell_type": "code",
   "execution_count": 14,
   "metadata": {},
   "outputs": [
    {
     "name": "stdout",
     "output_type": "stream",
     "text": [
      "name: NVIDIA RTX A6000\n",
      "compute_capability: (8, 6)\n",
      "architecture: ampere\n",
      "cores: 84\n",
      "cuda_cores: 5376\n",
      "concurrent_threads: 129024\n",
      "gpu_clock_mhz: 1800.0\n",
      "mem_clock_mhz: 8001.0\n",
      "total_mem_mb: 48676.75\n",
      "free_mem_mb: 48144.8125\n",
      "\n",
      "name: NVIDIA GeForce RTX 2060\n",
      "compute_capability: (7, 5)\n",
      "architecture: turing\n",
      "cores: 34\n",
      "cuda_cores: 2176\n",
      "concurrent_threads: 34816\n",
      "gpu_clock_mhz: 1650.0\n",
      "mem_clock_mhz: 7001.0\n",
      "total_mem_mb: 12021.875\n",
      "free_mem_mb: 11740.3125\n",
      "\n"
     ]
    }
   ],
   "source": [
    "cuda_devices = get_cuda_device_specs()\n",
    "for i in cuda_devices:\n",
    "    for key, value in i.items():\n",
    "        print(f\"{key}: {value}\")\n",
    "    print()"
   ]
  },
  {
   "cell_type": "code",
   "execution_count": null,
   "metadata": {},
   "outputs": [],
   "source": [
    "def create_config(model_config, cuda_device):\n",
    "    "
   ]
  },
  {
   "cell_type": "code",
   "execution_count": null,
   "metadata": {},
   "outputs": [],
   "source": [
    "# Model 1\n",
    "model_id = 1\n",
    "# How many times to run each configuration, set to -1 to fill the GPU\n",
    "num_concurrent = 5\n",
    "# Where to set the nucleation threshold\n",
    "nucleation_threshold = 1\n",
    "\n",
    "# Each parameter is a list of values. The number of models will be the product of the lengths of the lists. \n",
    "grid_size = [[100,100],]\n",
    "num_iterations = [1000,]\n",
    "iterations = [1000,]\n",
    "iter_per_step = [5,]\n",
    "seed = [0,]\n",
    "inv_temp = [1.0,]\n",
    "field = [0.0,]\n",
    "starting_config = [3]\n",
    "\n",
    "model_config = {\n",
    "    'model_id': model_id,\n",
    "    'num_concurrent': num_concurrent,\n",
    "    'nucleation_threshold': nucleation_threshold,\n",
    "    'grid_size': grid_size,\n",
    "    'num_iterations': num_iterations,\n",
    "    'iterations': iterations,\n",
    "    'iter_per_step': iter_per_step,\n",
    "    'seed': seed,\n",
    "    'inv_temp': inv_temp,\n",
    "    'field': field,\n",
    "    'starting_config': starting_config,\n",
    "}\n",
    "\n",
    "create_config(model_config, cuda_devices[0])\n",
    "\n",
    "# Model 2\n",
    "\n"
   ]
  },
  {
   "cell_type": "code",
   "execution_count": null,
   "metadata": {},
   "outputs": [],
   "source": []
  }
 ],
 "metadata": {
  "kernelspec": {
   "display_name": "pyviz-f0eZ8xRT-py3.9",
   "language": "python",
   "name": "python3"
  },
  "language_info": {
   "codemirror_mode": {
    "name": "ipython",
    "version": 3
   },
   "file_extension": ".py",
   "mimetype": "text/x-python",
   "name": "python",
   "nbconvert_exporter": "python",
   "pygments_lexer": "ipython3",
   "version": "3.9.16"
  },
  "orig_nbformat": 4
 },
 "nbformat": 4,
 "nbformat_minor": 2
}
